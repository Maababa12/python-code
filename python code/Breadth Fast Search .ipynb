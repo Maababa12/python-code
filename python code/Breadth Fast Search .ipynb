{
 "cells": [
  {
   "cell_type": "code",
   "execution_count": 1,
   "metadata": {},
   "outputs": [
    {
     "name": "stdout",
     "output_type": "stream",
     "text": [
      "{'A': 0, 'B': 1, 'C': 1, 'E': 1, 'D': 2, 'F': 2, 'G': 2}\n",
      "['A', 'B', 'C', 'E', 'D', 'F', 'G']\n"
     ]
    }
   ],
   "source": [
    "\n",
    "graph = {'A': ['B', 'C', 'E'],\n",
    "         'B': ['A','D', 'E'],\n",
    "         'C': ['A', 'F', 'G'],\n",
    "         'D': ['B'],\n",
    "         'E': ['A', 'B','D'],\n",
    "         'F': ['C'],\n",
    "         'G': ['C']}\n",
    "\n",
    "\n",
    "def bfs_connected_component(graph, start):\n",
    "  \n",
    "    explored = []\n",
    "  \n",
    "    queue = [start]\n",
    "\n",
    "    levels = {}        \n",
    "    levels[start]= 0    \n",
    "\n",
    "    visited= [start]    \n",
    "\n",
    "   \n",
    "    while queue:\n",
    "     \n",
    "        node = queue.pop(0)\n",
    "        explored.append(node)\n",
    "        neighbours = graph[node]\n",
    "\n",
    "      \n",
    "        for neighbour in neighbours:\n",
    "            if neighbour not in visited:\n",
    "                queue.append(neighbour)\n",
    "                visited.append(neighbour)\n",
    "\n",
    "                levels[neighbour]= levels[node]+1\n",
    "            \n",
    "\n",
    "    print(levels)\n",
    "\n",
    "    return explored\n",
    "\n",
    "ans = bfs_connected_component(graph,'A') \n",
    "print(ans)\n",
    "                "
   ]
  },
  {
   "cell_type": "code",
   "execution_count": null,
   "metadata": {},
   "outputs": [],
   "source": []
  },
  {
   "cell_type": "markdown",
   "metadata": {},
   "source": []
  }
 ],
 "metadata": {
  "kernelspec": {
   "display_name": "Python 3",
   "language": "python",
   "name": "python3"
  },
  "language_info": {
   "codemirror_mode": {
    "name": "ipython",
    "version": 3
   },
   "file_extension": ".py",
   "mimetype": "text/x-python",
   "name": "python",
   "nbconvert_exporter": "python",
   "pygments_lexer": "ipython3",
   "version": "3.7.1"
  },
  "widgets": {
   "application/vnd.jupyter.widget-state+json": {
    "state": {},
    "version_major": 2,
    "version_minor": 0
   }
  }
 },
 "nbformat": 4,
 "nbformat_minor": 2
}
