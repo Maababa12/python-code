{
 "cells": [
  {
   "cell_type": "code",
   "execution_count": 6,
   "metadata": {},
   "outputs": [
    {
     "data": {
      "text/plain": [
       "('Nasir', 'Uddin', 157, 3.9)"
      ]
     },
     "execution_count": 6,
     "metadata": {},
     "output_type": "execute_result"
    }
   ],
   "source": [
    "class student:\n",
    "    def _init_(self, first_name, last_name, numCredits, gpa):\n",
    "        self.first_name = first_name\n",
    "        self.last_name = last_name\n",
    "        self.numCredits = numCredits\n",
    "        self.gpa = gpa\n",
    "        \n",
    "    def getFirstname(self):\n",
    "        return self.first_name\n",
    "    \n",
    "        \n",
    "    def getLastname(self):\n",
    "        return self.last_name\n",
    "    \n",
    "    def getNumCredits(self):\n",
    "        return self.numCredits\n",
    "    \n",
    "    def getGpa(self):\n",
    "        return self.gpa\n",
    "    \n",
    "    def setFirstname(self, first_name):\n",
    "        self.first_name = first\n",
    "        \n",
    "    def setLastname(self, last_name):\n",
    "        self.last_name = last\n",
    "        \n",
    "    def setNumCredits(self, numCredits):\n",
    "        self.numCredits = Credits\n",
    "        \n",
    "    def setGpa(self, gpa):\n",
    "        self.gpa = gpa\n",
    "        \n",
    "    def _str_(self):\n",
    "        return(self, first_name, last_name, numCredits, gpa)\n",
    "    \n",
    "student1 = Student(\"Nasir\",\"Uddin\",157,3.9)\n",
    "student1.__str__()\n"
   ]
  },
  {
   "cell_type": "code",
   "execution_count": null,
   "metadata": {},
   "outputs": [],
   "source": []
  }
 ],
 "metadata": {
  "kernelspec": {
   "display_name": "Python 3",
   "language": "python",
   "name": "python3"
  },
  "language_info": {
   "codemirror_mode": {
    "name": "ipython",
    "version": 3
   },
   "file_extension": ".py",
   "mimetype": "text/x-python",
   "name": "python",
   "nbconvert_exporter": "python",
   "pygments_lexer": "ipython3",
   "version": "3.7.1"
  }
 },
 "nbformat": 4,
 "nbformat_minor": 2
}
