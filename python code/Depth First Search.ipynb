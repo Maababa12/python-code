{
 "cells": [
  {
   "cell_type": "code",
   "execution_count": 3,
   "metadata": {},
   "outputs": [
    {
     "name": "stdout",
     "output_type": "stream",
     "text": [
      "{0: 0, 1: 0, 2: 0, 3: 0, 4: 0, 5: 0}\n",
      "Visiting  0\n",
      "Visiting  1\n",
      "Visiting  3\n",
      "Visiting  5\n",
      "Visiting  2\n",
      "Visiting  4\n",
      "{0: 1, 1: 2, 2: 5, 3: 3, 4: 6, 5: 4}\n"
     ]
    }
   ],
   "source": [
    "graphAL2 = {0 : [1,2,3],\n",
    "        1 : [0,3,4],\n",
    "        2 : [0,4,5],\n",
    "        3 : [0,1,5],\n",
    "        4 : [1,2],\n",
    "        5 : [2,3] }\n",
    "\n",
    "def main():\n",
    "    count = 0\n",
    "    graphAL2v = {}\n",
    "\n",
    "    for key, value in graphAL2.items():\n",
    "         graphAL2v[key] = 0\n",
    "\n",
    "    print(graphAL2v)\n",
    "\n",
    "    for key in graphAL2v: \n",
    "        if graphAL2v[key] == 0: \n",
    "            dfs(key, count, graphAL2, graphAL2v)\n",
    "\n",
    "    print(graphAL2v)\n",
    "\n",
    "\n",
    "def dfs(v, count, graphal, graphvisited):\n",
    "    count = count + 1\n",
    "    print(\"Visiting \",v)\n",
    "    graphvisited[v] = count\n",
    "    for elem in graphal[v]:\n",
    "        if not graphvisited[elem]:\n",
    "            dfs(elem, count, graphal, graphvisited)\n",
    "\n",
    "main()"
   ]
  },
  {
   "cell_type": "code",
   "execution_count": null,
   "metadata": {},
   "outputs": [],
   "source": []
  }
 ],
 "metadata": {
  "kernelspec": {
   "display_name": "Python 3",
   "language": "python",
   "name": "python3"
  },
  "language_info": {
   "codemirror_mode": {
    "name": "ipython",
    "version": 3
   },
   "file_extension": ".py",
   "mimetype": "text/x-python",
   "name": "python",
   "nbconvert_exporter": "python",
   "pygments_lexer": "ipython3",
   "version": "3.7.1"
  }
 },
 "nbformat": 4,
 "nbformat_minor": 2
}
